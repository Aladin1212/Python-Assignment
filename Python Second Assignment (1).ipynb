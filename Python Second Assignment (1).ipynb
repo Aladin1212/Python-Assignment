{
 "cells": [
  {
   "cell_type": "code",
   "execution_count": 2,
   "metadata": {},
   "outputs": [
    {
     "name": "stdout",
     "output_type": "stream",
     "text": [
      "Enter the input: Rana\n",
      "anaR"
     ]
    }
   ],
   "source": [
    "s=input(\"Enter the input: \")\n",
    "k=len(s)-1\n",
    "while(k>=0):\n",
    "    print(s[k],end=\"\")\n",
    "    k=k-1"
   ]
  },
  {
   "cell_type": "code",
   "execution_count": 20,
   "metadata": {},
   "outputs": [
    {
     "name": "stdout",
     "output_type": "stream",
     "text": [
      "Enter the line number:9\n",
      "* \n",
      "\n",
      "* * \n",
      "\n",
      "* * * \n",
      "\n",
      "* * * * \n",
      "\n",
      "* * * * * \n",
      "\n",
      "* * * * \n",
      "\n",
      "* * * \n",
      "\n",
      "* * \n",
      "\n",
      "* \n",
      "\n"
     ]
    }
   ],
   "source": [
    "n=int(input(\"Enter the line number:\"))\n",
    "if(n%2==0):\n",
    "    k=(n//2)\n",
    "else:\n",
    "    k=(n//2)+1\n",
    "l=n//2\n",
    "for i in range(k):\n",
    "    for j in range(i+1):\n",
    "        print(\"*\",end=\" \")\n",
    "    print(\"\\n\")\n",
    "while(l>0):\n",
    "    for m in range(l):\n",
    "        print(\"*\",end=\" \")\n",
    "    l=l-1\n",
    "    print(\"\\n\")\n",
    "     \n",
    "            \n",
    "            \n",
    "    \n"
   ]
  },
  {
   "cell_type": "code",
   "execution_count": null,
   "metadata": {},
   "outputs": [],
   "source": []
  }
 ],
 "metadata": {
  "kernelspec": {
   "display_name": "Python 3",
   "language": "python",
   "name": "python3"
  },
  "language_info": {
   "codemirror_mode": {
    "name": "ipython",
    "version": 3
   },
   "file_extension": ".py",
   "mimetype": "text/x-python",
   "name": "python",
   "nbconvert_exporter": "python",
   "pygments_lexer": "ipython3",
   "version": "3.7.1"
  }
 },
 "nbformat": 4,
 "nbformat_minor": 2
}
